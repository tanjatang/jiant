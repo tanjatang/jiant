{
 "cells": [
  {
   "cell_type": "markdown",
   "metadata": {},
   "source": [
    "# Edge Probing Predictions Sandbox\n",
    "\n",
    "Use this notebook as a starting point for #datascience on Edge Probing predictions. The code below (from `probing/analysis.py`) will load predictions from a run, do some pre-processing for convenience, and expose two DataFrames for analysis.\n",
    "\n",
    "We load the data into Pandas so it's easier to filter by various fields, and to select particular columns of interest (such as `labels.khot` and `preds.proba` for computing metrics). For an introduction to Pandas, see here: https://pandas.pydata.org/pandas-docs/stable/10min.html "
   ]
  },
  {
   "cell_type": "code",
   "execution_count": 1,
   "metadata": {},
   "outputs": [
    {
     "name": "stderr",
     "output_type": "stream",
     "text": [
      "/home/itcast/anaconda3/envs/jiant1/lib/python3.6/importlib/_bootstrap.py:219: RuntimeWarning: numpy.dtype size changed, may indicate binary incompatibility. Expected 96, got 88\n",
      "  return f(*args, **kwds)\n",
      "/home/itcast/anaconda3/envs/jiant1/lib/python3.6/importlib/_bootstrap.py:219: RuntimeWarning: numpy.dtype size changed, may indicate binary incompatibility. Expected 96, got 88\n",
      "  return f(*args, **kwds)\n"
     ]
    }
   ],
   "source": [
    "import sys, os, re, json\n",
    "import itertools\n",
    "import collections\n",
    "from importlib import reload\n",
    "import pandas as pd\n",
    "import numpy as np\n",
    "from sklearn import metrics"
   ]
  },
  {
   "cell_type": "markdown",
   "metadata": {},
   "source": [
    "The latest runs are here:"
   ]
  },
  {
   "cell_type": "code",
   "execution_count": 2,
   "metadata": {},
   "outputs": [
    {
     "name": "stdout",
     "output_type": "stream",
     "text": [
      "ls: cannot access '/nfs/jsalt/home/iftenney/exp/edges-20180913/': No such file or directory\r\n"
     ]
    }
   ],
   "source": [
    "ls /nfs/jsalt/home/iftenney/exp/edges-20180913/"
   ]
  },
  {
   "cell_type": "markdown",
   "metadata": {},
   "source": [
    "The `elmo-chars` experiments probe the char CNN layer only (lexical baseline), while the `elmo-full` models use full ELMo with learned mixing weights. The run dir for each is just called \"run\" by default. "
   ]
  },
  {
   "cell_type": "code",
   "execution_count": 3,
   "metadata": {},
   "outputs": [
    {
     "name": "stderr",
     "output_type": "stream",
     "text": [
      "07/28 09:12:29 AM: Loading vocabulary from /home/itcast/jiant-v1-legacy/out3/ep_bertlarge/vocab\n",
      "07/28 09:12:29 AM: Loading token dictionary from /home/itcast/jiant-v1-legacy/out3/ep_bertlarge/vocab.\n",
      "07/28 09:12:29 AM: Loading predictions from /home/itcast/jiant-v1-legacy/out3/ep_bertlarge/run/sup_test.json\n"
     ]
    },
    {
     "name": "stdout",
     "output_type": "stream",
     "text": [
      "Number of examples: 231480\n",
      "Number of total targets: 598983\n",
      "Labels (66 total):\n",
      "['ARG0', 'ARG1', 'ARG2', 'ARG3', 'ARG4', 'ARG5', 'ARGA', 'ARGM-ADJ', 'ARGM-ADV', 'ARGM-CAU', 'ARGM-COM', 'ARGM-DIR', 'ARGM-DIS', 'ARGM-DSP', 'ARGM-EXT', 'ARGM-GOL', 'ARGM-LOC', 'ARGM-LVB', 'ARGM-MNR', 'ARGM-MOD', 'ARGM-NEG', 'ARGM-PNC', 'ARGM-PRD', 'ARGM-PRP', 'ARGM-PRR', 'ARGM-PRX', 'ARGM-REC', 'ARGM-TMP', 'C-ARG0', 'C-ARG1', 'C-ARG2', 'C-ARG3', 'C-ARG4', 'C-ARGM-ADJ', 'C-ARGM-ADV', 'C-ARGM-CAU', 'C-ARGM-COM', 'C-ARGM-DIR', 'C-ARGM-DIS', 'C-ARGM-DSP', 'C-ARGM-EXT', 'C-ARGM-LOC', 'C-ARGM-MNR', 'C-ARGM-MOD', 'C-ARGM-NEG', 'C-ARGM-PRP', 'C-ARGM-TMP', 'R-ARG0', 'R-ARG1', 'R-ARG2', 'R-ARG3', 'R-ARG4', 'R-ARG5', 'R-ARGM-ADV', 'R-ARGM-CAU', 'R-ARGM-COM', 'R-ARGM-DIR', 'R-ARGM-EXT', 'R-ARGM-GOL', 'R-ARGM-LOC', 'R-ARGM-MNR', 'R-ARGM-MOD', 'R-ARGM-PNC', 'R-ARGM-PRD', 'R-ARGM-PRP', 'R-ARGM-TMP']\n"
     ]
    }
   ],
   "source": [
    "import analysis\n",
    "reload(analysis)\n",
    "\n",
    "run_dir = \"/home/itcast/jiant-v1-legacy/out3/ep_bertlarge/run\"\n",
    "preds = analysis.Predictions.from_run(run_dir, 'sup', 'test')\n",
    "print(\"Number of examples: %d\" % len(preds.example_df))\n",
    "print(\"Number of total targets: %d\" % len(preds.target_df))\n",
    "print(\"Labels (%d total):\" % len(preds.all_labels))\n",
    "print(preds.all_labels)"
   ]
  },
  {
   "cell_type": "markdown",
   "metadata": {},
   "source": [
    "### Top-level example info\n",
    "\n",
    "`preds.example_df` contains information on the top-level examples. Mostly, this just stores the input text and any metadata fields that were present in the original data. This is useful if you want to link the targets back to the text, but you shouldn't need it to compute most metrics."
   ]
  },
  {
   "cell_type": "code",
   "execution_count": 4,
   "metadata": {},
   "outputs": [
    {
     "data": {
      "text/html": [
       "<div>\n",
       "<style scoped>\n",
       "    .dataframe tbody tr th:only-of-type {\n",
       "        vertical-align: middle;\n",
       "    }\n",
       "\n",
       "    .dataframe tbody tr th {\n",
       "        vertical-align: top;\n",
       "    }\n",
       "\n",
       "    .dataframe thead th {\n",
       "        text-align: right;\n",
       "    }\n",
       "</style>\n",
       "<table border=\"1\" class=\"dataframe\">\n",
       "  <thead>\n",
       "    <tr style=\"text-align: right;\">\n",
       "      <th></th>\n",
       "      <th>idx</th>\n",
       "      <th>info.document_id</th>\n",
       "      <th>info.sentence_id</th>\n",
       "      <th>text</th>\n",
       "    </tr>\n",
       "    <tr>\n",
       "      <th>idx</th>\n",
       "      <th></th>\n",
       "      <th></th>\n",
       "      <th></th>\n",
       "      <th></th>\n",
       "    </tr>\n",
       "  </thead>\n",
       "  <tbody>\n",
       "    <tr>\n",
       "      <th>0</th>\n",
       "      <td>0</td>\n",
       "      <td>nw/dev_09_c2e/00/dev_09_c2e_0065</td>\n",
       "      <td>0</td>\n",
       "      <td>In July of 1992 , after Abkhazia &amp;apos; s self...</td>\n",
       "    </tr>\n",
       "    <tr>\n",
       "      <th>1</th>\n",
       "      <td>1</td>\n",
       "      <td>nw/dev_09_c2e/00/dev_09_c2e_0036</td>\n",
       "      <td>0</td>\n",
       "      <td>He said , It is natural for the Chinese to con...</td>\n",
       "    </tr>\n",
       "    <tr>\n",
       "      <th>2</th>\n",
       "      <td>2</td>\n",
       "      <td>nw/dev_09_c2e/00/dev_09_c2e_0042</td>\n",
       "      <td>0</td>\n",
       "      <td>All units must reply according to the format r...</td>\n",
       "    </tr>\n",
       "    <tr>\n",
       "      <th>3</th>\n",
       "      <td>3</td>\n",
       "      <td>nw/dev_09_c2e/00/dev_09_c2e_0061</td>\n",
       "      <td>0</td>\n",
       "      <td>At present , related authorities have already ...</td>\n",
       "    </tr>\n",
       "    <tr>\n",
       "      <th>4</th>\n",
       "      <td>4</td>\n",
       "      <td>nw/dev_09_c2e/00/dev_09_c2e_0013</td>\n",
       "      <td>0</td>\n",
       "      <td>Second , the annual report of Shanghai has dis...</td>\n",
       "    </tr>\n",
       "  </tbody>\n",
       "</table>\n",
       "</div>"
      ],
      "text/plain": [
       "     idx                  info.document_id  info.sentence_id  \\\n",
       "idx                                                            \n",
       "0      0  nw/dev_09_c2e/00/dev_09_c2e_0065                 0   \n",
       "1      1  nw/dev_09_c2e/00/dev_09_c2e_0036                 0   \n",
       "2      2  nw/dev_09_c2e/00/dev_09_c2e_0042                 0   \n",
       "3      3  nw/dev_09_c2e/00/dev_09_c2e_0061                 0   \n",
       "4      4  nw/dev_09_c2e/00/dev_09_c2e_0013                 0   \n",
       "\n",
       "                                                  text  \n",
       "idx                                                     \n",
       "0    In July of 1992 , after Abkhazia &apos; s self...  \n",
       "1    He said , It is natural for the Chinese to con...  \n",
       "2    All units must reply according to the format r...  \n",
       "3    At present , related authorities have already ...  \n",
       "4    Second , the annual report of Shanghai has dis...  "
      ]
     },
     "execution_count": 4,
     "metadata": {},
     "output_type": "execute_result"
    }
   ],
   "source": [
    "preds.example_df.head()"
   ]
  },
  {
   "cell_type": "markdown",
   "metadata": {},
   "source": [
    "### Target info and predictions\n",
    "\n",
    "`preds.target_df` contains the per-target input fields (`span1`, `span2`, and `label`) as well as any metadata associated with individual targets. The `idx` column references a row in `example_df` that this target belongs to, if you need to recover the original text.\n",
    "\n",
    "The loader code does some preprocessing for convenience. In particular, we add a `label.ids` column which maps the list-of-string `label` column into a list of integer ids for these targets, as well as `label.khot` which contains a K-hot encoding of these ids. \n",
    "\n",
    "Each entry in `label.khot` should align to the corresponding entry in `preds.proba`, which contains the model's predicted probabilities $\\hat{y} \\in [0,1]$ for each class.\n",
    "\n",
    "For specific analysis, it might be easier to work with the wide and long forms of this DataFrame - see cells below."
   ]
  },
  {
   "cell_type": "code",
   "execution_count": 5,
   "metadata": {},
   "outputs": [
    {
     "data": {
      "text/html": [
       "<div>\n",
       "<style scoped>\n",
       "    .dataframe tbody tr th:only-of-type {\n",
       "        vertical-align: middle;\n",
       "    }\n",
       "\n",
       "    .dataframe tbody tr th {\n",
       "        vertical-align: top;\n",
       "    }\n",
       "\n",
       "    .dataframe thead th {\n",
       "        text-align: right;\n",
       "    }\n",
       "</style>\n",
       "<table border=\"1\" class=\"dataframe\">\n",
       "  <thead>\n",
       "    <tr style=\"text-align: right;\">\n",
       "      <th></th>\n",
       "      <th>idx</th>\n",
       "      <th>label</th>\n",
       "      <th>preds.proba</th>\n",
       "      <th>span1</th>\n",
       "      <th>span2</th>\n",
       "      <th>label.ids</th>\n",
       "      <th>label.khot</th>\n",
       "    </tr>\n",
       "  </thead>\n",
       "  <tbody>\n",
       "    <tr>\n",
       "      <th>0</th>\n",
       "      <td>0</td>\n",
       "      <td>[ARG0]</td>\n",
       "      <td>[0.0362212136387825, 0.9109857082366943, 0.413...</td>\n",
       "      <td>(11, 12)</td>\n",
       "      <td>(6, 9)</td>\n",
       "      <td>[0]</td>\n",
       "      <td>[1, 0, 0, 0, 0, 0, 0, 0, 0, 0, 0, 0, 0, 0, 0, ...</td>\n",
       "    </tr>\n",
       "    <tr>\n",
       "      <th>1</th>\n",
       "      <td>0</td>\n",
       "      <td>[ARGM-REC]</td>\n",
       "      <td>[0.05116146430373192, 0.4776630103588104, 0.08...</td>\n",
       "      <td>(11, 12)</td>\n",
       "      <td>(9, 10)</td>\n",
       "      <td>[26]</td>\n",
       "      <td>[0, 0, 0, 0, 0, 0, 0, 0, 0, 0, 0, 0, 0, 0, 0, ...</td>\n",
       "    </tr>\n",
       "    <tr>\n",
       "      <th>2</th>\n",
       "      <td>0</td>\n",
       "      <td>[ARG1]</td>\n",
       "      <td>[0.3328816890716553, 0.829319179058075, 0.0821...</td>\n",
       "      <td>(11, 12)</td>\n",
       "      <td>(12, 14)</td>\n",
       "      <td>[1]</td>\n",
       "      <td>[0, 1, 0, 0, 0, 0, 0, 0, 0, 0, 0, 0, 0, 0, 0, ...</td>\n",
       "    </tr>\n",
       "    <tr>\n",
       "      <th>3</th>\n",
       "      <td>1</td>\n",
       "      <td>[ARG1]</td>\n",
       "      <td>[0.5545434951782227, 0.8481532335281372, 0.370...</td>\n",
       "      <td>(15, 16)</td>\n",
       "      <td>(16, 18)</td>\n",
       "      <td>[1]</td>\n",
       "      <td>[0, 1, 0, 0, 0, 0, 0, 0, 0, 0, 0, 0, 0, 0, 0, ...</td>\n",
       "    </tr>\n",
       "    <tr>\n",
       "      <th>4</th>\n",
       "      <td>2</td>\n",
       "      <td>[ARGM-TMP]</td>\n",
       "      <td>[0.798281192779541, 0.017672736197710037, 0.11...</td>\n",
       "      <td>(43, 44)</td>\n",
       "      <td>(42, 43)</td>\n",
       "      <td>[27]</td>\n",
       "      <td>[0, 0, 0, 0, 0, 0, 0, 0, 0, 0, 0, 0, 0, 0, 0, ...</td>\n",
       "    </tr>\n",
       "  </tbody>\n",
       "</table>\n",
       "</div>"
      ],
      "text/plain": [
       "   idx       label                                        preds.proba  \\\n",
       "0    0      [ARG0]  [0.0362212136387825, 0.9109857082366943, 0.413...   \n",
       "1    0  [ARGM-REC]  [0.05116146430373192, 0.4776630103588104, 0.08...   \n",
       "2    0      [ARG1]  [0.3328816890716553, 0.829319179058075, 0.0821...   \n",
       "3    1      [ARG1]  [0.5545434951782227, 0.8481532335281372, 0.370...   \n",
       "4    2  [ARGM-TMP]  [0.798281192779541, 0.017672736197710037, 0.11...   \n",
       "\n",
       "      span1     span2 label.ids  \\\n",
       "0  (11, 12)    (6, 9)       [0]   \n",
       "1  (11, 12)   (9, 10)      [26]   \n",
       "2  (11, 12)  (12, 14)       [1]   \n",
       "3  (15, 16)  (16, 18)       [1]   \n",
       "4  (43, 44)  (42, 43)      [27]   \n",
       "\n",
       "                                          label.khot  \n",
       "0  [1, 0, 0, 0, 0, 0, 0, 0, 0, 0, 0, 0, 0, 0, 0, ...  \n",
       "1  [0, 0, 0, 0, 0, 0, 0, 0, 0, 0, 0, 0, 0, 0, 0, ...  \n",
       "2  [0, 1, 0, 0, 0, 0, 0, 0, 0, 0, 0, 0, 0, 0, 0, ...  \n",
       "3  [0, 1, 0, 0, 0, 0, 0, 0, 0, 0, 0, 0, 0, 0, 0, ...  \n",
       "4  [0, 0, 0, 0, 0, 0, 0, 0, 0, 0, 0, 0, 0, 0, 0, ...  "
      ]
     },
     "execution_count": 5,
     "metadata": {},
     "output_type": "execute_result"
    }
   ],
   "source": [
    "preds.target_df.head()"
   ]
  },
  {
   "cell_type": "markdown",
   "metadata": {},
   "source": [
    "### Wide and Long Data\n",
    "\n",
    "For background on these views, see https://altair-viz.github.io/user_guide/data.html#long-form-vs-wide-form-data\n",
    "\n",
    "Here's a \"wide\" version of the data, with the usual metadata plus `2* num_labels` columns: `label.true.<label_name>` and `preds.proba.<label_name>` for each target class."
   ]
  },
  {
   "cell_type": "code",
   "execution_count": 6,
   "metadata": {},
   "outputs": [
    {
     "name": "stderr",
     "output_type": "stream",
     "text": [
      "07/28 09:13:26 AM: Generating wide-form target DataFrame. May be slow... \n",
      "07/28 09:16:04 AM: Done!\n"
     ]
    },
    {
     "data": {
      "text/html": [
       "<div>\n",
       "<style scoped>\n",
       "    .dataframe tbody tr th:only-of-type {\n",
       "        vertical-align: middle;\n",
       "    }\n",
       "\n",
       "    .dataframe tbody tr th {\n",
       "        vertical-align: top;\n",
       "    }\n",
       "\n",
       "    .dataframe thead th {\n",
       "        text-align: right;\n",
       "    }\n",
       "</style>\n",
       "<table border=\"1\" class=\"dataframe\">\n",
       "  <thead>\n",
       "    <tr style=\"text-align: right;\">\n",
       "      <th></th>\n",
       "      <th>idx</th>\n",
       "      <th>span1</th>\n",
       "      <th>span2</th>\n",
       "      <th>label.true.ARG0</th>\n",
       "      <th>label.true.ARG1</th>\n",
       "      <th>label.true.ARG2</th>\n",
       "      <th>label.true.ARG3</th>\n",
       "      <th>label.true.ARG4</th>\n",
       "      <th>label.true.ARG5</th>\n",
       "      <th>label.true.ARGA</th>\n",
       "      <th>...</th>\n",
       "      <th>preds.proba.R-ARGM-DIR</th>\n",
       "      <th>preds.proba.R-ARGM-EXT</th>\n",
       "      <th>preds.proba.R-ARGM-GOL</th>\n",
       "      <th>preds.proba.R-ARGM-LOC</th>\n",
       "      <th>preds.proba.R-ARGM-MNR</th>\n",
       "      <th>preds.proba.R-ARGM-MOD</th>\n",
       "      <th>preds.proba.R-ARGM-PNC</th>\n",
       "      <th>preds.proba.R-ARGM-PRD</th>\n",
       "      <th>preds.proba.R-ARGM-PRP</th>\n",
       "      <th>preds.proba.R-ARGM-TMP</th>\n",
       "    </tr>\n",
       "  </thead>\n",
       "  <tbody>\n",
       "    <tr>\n",
       "      <th>0</th>\n",
       "      <td>0</td>\n",
       "      <td>(11, 12)</td>\n",
       "      <td>(6, 9)</td>\n",
       "      <td>1</td>\n",
       "      <td>0</td>\n",
       "      <td>0</td>\n",
       "      <td>0</td>\n",
       "      <td>0</td>\n",
       "      <td>0</td>\n",
       "      <td>0</td>\n",
       "      <td>...</td>\n",
       "      <td>0.247644</td>\n",
       "      <td>0.221382</td>\n",
       "      <td>0.305474</td>\n",
       "      <td>0.016793</td>\n",
       "      <td>0.272400</td>\n",
       "      <td>0.264148</td>\n",
       "      <td>0.123025</td>\n",
       "      <td>0.196510</td>\n",
       "      <td>0.302759</td>\n",
       "      <td>0.043375</td>\n",
       "    </tr>\n",
       "    <tr>\n",
       "      <th>1</th>\n",
       "      <td>0</td>\n",
       "      <td>(11, 12)</td>\n",
       "      <td>(9, 10)</td>\n",
       "      <td>0</td>\n",
       "      <td>0</td>\n",
       "      <td>0</td>\n",
       "      <td>0</td>\n",
       "      <td>0</td>\n",
       "      <td>0</td>\n",
       "      <td>0</td>\n",
       "      <td>...</td>\n",
       "      <td>0.655565</td>\n",
       "      <td>0.751496</td>\n",
       "      <td>0.775576</td>\n",
       "      <td>0.149934</td>\n",
       "      <td>0.655053</td>\n",
       "      <td>0.648770</td>\n",
       "      <td>0.692132</td>\n",
       "      <td>0.690925</td>\n",
       "      <td>0.684106</td>\n",
       "      <td>0.588227</td>\n",
       "    </tr>\n",
       "    <tr>\n",
       "      <th>2</th>\n",
       "      <td>0</td>\n",
       "      <td>(11, 12)</td>\n",
       "      <td>(12, 14)</td>\n",
       "      <td>0</td>\n",
       "      <td>1</td>\n",
       "      <td>0</td>\n",
       "      <td>0</td>\n",
       "      <td>0</td>\n",
       "      <td>0</td>\n",
       "      <td>0</td>\n",
       "      <td>...</td>\n",
       "      <td>0.380756</td>\n",
       "      <td>0.353931</td>\n",
       "      <td>0.394354</td>\n",
       "      <td>0.041905</td>\n",
       "      <td>0.364044</td>\n",
       "      <td>0.364817</td>\n",
       "      <td>0.243931</td>\n",
       "      <td>0.408371</td>\n",
       "      <td>0.416636</td>\n",
       "      <td>0.254229</td>\n",
       "    </tr>\n",
       "    <tr>\n",
       "      <th>3</th>\n",
       "      <td>1</td>\n",
       "      <td>(15, 16)</td>\n",
       "      <td>(16, 18)</td>\n",
       "      <td>0</td>\n",
       "      <td>1</td>\n",
       "      <td>0</td>\n",
       "      <td>0</td>\n",
       "      <td>0</td>\n",
       "      <td>0</td>\n",
       "      <td>0</td>\n",
       "      <td>...</td>\n",
       "      <td>0.216123</td>\n",
       "      <td>0.218544</td>\n",
       "      <td>0.289990</td>\n",
       "      <td>0.040835</td>\n",
       "      <td>0.221564</td>\n",
       "      <td>0.350754</td>\n",
       "      <td>0.228039</td>\n",
       "      <td>0.298226</td>\n",
       "      <td>0.328966</td>\n",
       "      <td>0.210418</td>\n",
       "    </tr>\n",
       "    <tr>\n",
       "      <th>4</th>\n",
       "      <td>2</td>\n",
       "      <td>(43, 44)</td>\n",
       "      <td>(42, 43)</td>\n",
       "      <td>0</td>\n",
       "      <td>0</td>\n",
       "      <td>0</td>\n",
       "      <td>0</td>\n",
       "      <td>0</td>\n",
       "      <td>0</td>\n",
       "      <td>0</td>\n",
       "      <td>...</td>\n",
       "      <td>0.058375</td>\n",
       "      <td>0.195195</td>\n",
       "      <td>0.133012</td>\n",
       "      <td>0.014040</td>\n",
       "      <td>0.064443</td>\n",
       "      <td>0.150105</td>\n",
       "      <td>0.156278</td>\n",
       "      <td>0.215066</td>\n",
       "      <td>0.123972</td>\n",
       "      <td>0.173104</td>\n",
       "    </tr>\n",
       "  </tbody>\n",
       "</table>\n",
       "<p>5 rows × 135 columns</p>\n",
       "</div>"
      ],
      "text/plain": [
       "   idx     span1     span2  label.true.ARG0  label.true.ARG1  label.true.ARG2  \\\n",
       "0    0  (11, 12)    (6, 9)                1                0                0   \n",
       "1    0  (11, 12)   (9, 10)                0                0                0   \n",
       "2    0  (11, 12)  (12, 14)                0                1                0   \n",
       "3    1  (15, 16)  (16, 18)                0                1                0   \n",
       "4    2  (43, 44)  (42, 43)                0                0                0   \n",
       "\n",
       "   label.true.ARG3  label.true.ARG4  label.true.ARG5  label.true.ARGA  \\\n",
       "0                0                0                0                0   \n",
       "1                0                0                0                0   \n",
       "2                0                0                0                0   \n",
       "3                0                0                0                0   \n",
       "4                0                0                0                0   \n",
       "\n",
       "            ...            preds.proba.R-ARGM-DIR  preds.proba.R-ARGM-EXT  \\\n",
       "0           ...                          0.247644                0.221382   \n",
       "1           ...                          0.655565                0.751496   \n",
       "2           ...                          0.380756                0.353931   \n",
       "3           ...                          0.216123                0.218544   \n",
       "4           ...                          0.058375                0.195195   \n",
       "\n",
       "   preds.proba.R-ARGM-GOL  preds.proba.R-ARGM-LOC  preds.proba.R-ARGM-MNR  \\\n",
       "0                0.305474                0.016793                0.272400   \n",
       "1                0.775576                0.149934                0.655053   \n",
       "2                0.394354                0.041905                0.364044   \n",
       "3                0.289990                0.040835                0.221564   \n",
       "4                0.133012                0.014040                0.064443   \n",
       "\n",
       "   preds.proba.R-ARGM-MOD  preds.proba.R-ARGM-PNC  preds.proba.R-ARGM-PRD  \\\n",
       "0                0.264148                0.123025                0.196510   \n",
       "1                0.648770                0.692132                0.690925   \n",
       "2                0.364817                0.243931                0.408371   \n",
       "3                0.350754                0.228039                0.298226   \n",
       "4                0.150105                0.156278                0.215066   \n",
       "\n",
       "   preds.proba.R-ARGM-PRP  preds.proba.R-ARGM-TMP  \n",
       "0                0.302759                0.043375  \n",
       "1                0.684106                0.588227  \n",
       "2                0.416636                0.254229  \n",
       "3                0.328966                0.210418  \n",
       "4                0.123972                0.173104  \n",
       "\n",
       "[5 rows x 135 columns]"
      ]
     },
     "execution_count": 6,
     "metadata": {},
     "output_type": "execute_result"
    }
   ],
   "source": [
    "preds.target_df_wide.head()"
   ]
  },
  {
   "cell_type": "markdown",
   "metadata": {},
   "source": [
    "We can fairly easily compute per-label metrics from the wide form, by selecting the appropriate pair of columns:"
   ]
  },
  {
   "cell_type": "code",
   "execution_count": 7,
   "metadata": {},
   "outputs": [
    {
     "name": "stdout",
     "output_type": "stream",
     "text": [
      "ARG0          0.378234\n",
      "ARG1          0.525697\n",
      "ARG2          0.351483\n",
      "ARG3          0.052658\n",
      "ARG4          0.064258\n",
      "ARG5          0.001333\n",
      "ARGA          0.000000\n",
      "ARGM-ADJ      0.021439\n",
      "ARGM-ADV      0.178669\n",
      "ARGM-CAU      0.052401\n",
      "ARGM-COM      0.000836\n",
      "ARGM-DIR      0.103585\n",
      "ARGM-DIS      0.266265\n",
      "ARGM-DSP      0.000121\n",
      "ARGM-EXT      0.044612\n",
      "ARGM-GOL      0.018816\n",
      "ARGM-LOC      0.070110\n",
      "ARGM-LVB      0.013464\n",
      "ARGM-MNR      0.100407\n",
      "ARGM-MOD      0.215194\n",
      "ARGM-NEG      0.374471\n",
      "ARGM-PNC      0.014363\n",
      "ARGM-PRD      0.023037\n",
      "ARGM-PRP      0.057057\n",
      "ARGM-PRR      0.000000\n",
      "ARGM-PRX      0.000000\n",
      "ARGM-REC      0.000947\n",
      "ARGM-TMP      0.181524\n",
      "C-ARG0        0.000869\n",
      "C-ARG1        0.022423\n",
      "                ...   \n",
      "C-ARGM-COM    0.000000\n",
      "C-ARGM-DIR    0.000000\n",
      "C-ARGM-DIS    0.000000\n",
      "C-ARGM-DSP    0.000000\n",
      "C-ARGM-EXT    0.000000\n",
      "C-ARGM-LOC    0.000000\n",
      "C-ARGM-MNR    0.000381\n",
      "C-ARGM-MOD    0.000000\n",
      "C-ARGM-NEG    0.000000\n",
      "C-ARGM-PRP    0.000000\n",
      "C-ARGM-TMP    0.000000\n",
      "R-ARG0        0.202565\n",
      "R-ARG1        0.063318\n",
      "R-ARG2        0.006889\n",
      "R-ARG3        0.000558\n",
      "R-ARG4        0.000065\n",
      "R-ARG5        0.000000\n",
      "R-ARGM-ADV    0.000000\n",
      "R-ARGM-CAU    0.001040\n",
      "R-ARGM-COM    0.000000\n",
      "R-ARGM-DIR    0.000000\n",
      "R-ARGM-EXT    0.000000\n",
      "R-ARGM-GOL    0.000000\n",
      "R-ARGM-LOC    0.033227\n",
      "R-ARGM-MNR    0.000182\n",
      "R-ARGM-MOD    0.000000\n",
      "R-ARGM-PNC    0.000080\n",
      "R-ARGM-PRD    0.000000\n",
      "R-ARGM-PRP    0.000000\n",
      "R-ARGM-TMP    0.012832\n",
      "Length: 66, dtype: float64\n",
      "Macro average F1: 0.0524\n"
     ]
    }
   ],
   "source": [
    "wide_df = preds.target_df_wide\n",
    "scores_by_label = {}\n",
    "for label in preds.all_labels:\n",
    "    y_true = wide_df['label.true.' + label]\n",
    "    y_pred = wide_df['preds.proba.' + label] >= 0.5\n",
    "    score = metrics.f1_score(y_true=y_true, y_pred=y_pred)\n",
    "    scores_by_label[label] = score\n",
    "scores = pd.Series(scores_by_label)\n",
    "print(scores)\n",
    "print(\"Macro average F1: %.04f\" % scores.mean())"
   ]
  },
  {
   "cell_type": "markdown",
   "metadata": {},
   "source": [
    "And here's a \"long\" version of the same, with a single `label` column, and one column each for `label.true` and `preds.proba` for that label:"
   ]
  },
  {
   "cell_type": "code",
   "execution_count": 8,
   "metadata": {},
   "outputs": [
    {
     "name": "stderr",
     "output_type": "stream",
     "text": [
      "07/28 09:18:03 AM: Generating long-form target DataFrame. May be slow... \n",
      "07/28 09:18:08 AM: span2 detected; adding span_distance to long-form DataFrame.\n",
      "07/28 09:19:10 AM: Done!\n"
     ]
    },
    {
     "data": {
      "text/html": [
       "<div>\n",
       "<style scoped>\n",
       "    .dataframe tbody tr th:only-of-type {\n",
       "        vertical-align: middle;\n",
       "    }\n",
       "\n",
       "    .dataframe tbody tr th {\n",
       "        vertical-align: top;\n",
       "    }\n",
       "\n",
       "    .dataframe thead th {\n",
       "        text-align: right;\n",
       "    }\n",
       "</style>\n",
       "<table border=\"1\" class=\"dataframe\">\n",
       "  <thead>\n",
       "    <tr style=\"text-align: right;\">\n",
       "      <th></th>\n",
       "      <th>idx</th>\n",
       "      <th>label</th>\n",
       "      <th>label.true</th>\n",
       "      <th>preds.proba</th>\n",
       "      <th>ex_idx</th>\n",
       "      <th>span_distance</th>\n",
       "    </tr>\n",
       "  </thead>\n",
       "  <tbody>\n",
       "    <tr>\n",
       "      <th>0</th>\n",
       "      <td>0</td>\n",
       "      <td>ARG0</td>\n",
       "      <td>1</td>\n",
       "      <td>0.036221</td>\n",
       "      <td>0</td>\n",
       "      <td>2</td>\n",
       "    </tr>\n",
       "    <tr>\n",
       "      <th>1</th>\n",
       "      <td>0</td>\n",
       "      <td>ARG1</td>\n",
       "      <td>0</td>\n",
       "      <td>0.910986</td>\n",
       "      <td>0</td>\n",
       "      <td>2</td>\n",
       "    </tr>\n",
       "    <tr>\n",
       "      <th>2</th>\n",
       "      <td>0</td>\n",
       "      <td>ARG2</td>\n",
       "      <td>0</td>\n",
       "      <td>0.413718</td>\n",
       "      <td>0</td>\n",
       "      <td>2</td>\n",
       "    </tr>\n",
       "    <tr>\n",
       "      <th>3</th>\n",
       "      <td>0</td>\n",
       "      <td>ARG3</td>\n",
       "      <td>0</td>\n",
       "      <td>0.088801</td>\n",
       "      <td>0</td>\n",
       "      <td>2</td>\n",
       "    </tr>\n",
       "    <tr>\n",
       "      <th>4</th>\n",
       "      <td>0</td>\n",
       "      <td>ARG4</td>\n",
       "      <td>0</td>\n",
       "      <td>0.095298</td>\n",
       "      <td>0</td>\n",
       "      <td>2</td>\n",
       "    </tr>\n",
       "  </tbody>\n",
       "</table>\n",
       "</div>"
      ],
      "text/plain": [
       "   idx label  label.true  preds.proba  ex_idx  span_distance\n",
       "0    0  ARG0           1     0.036221       0              2\n",
       "1    0  ARG1           0     0.910986       0              2\n",
       "2    0  ARG2           0     0.413718       0              2\n",
       "3    0  ARG3           0     0.088801       0              2\n",
       "4    0  ARG4           0     0.095298       0              2"
      ]
     },
     "execution_count": 8,
     "metadata": {},
     "output_type": "execute_result"
    }
   ],
   "source": [
    "preds.target_df_long.head()"
   ]
  },
  {
   "cell_type": "markdown",
   "metadata": {},
   "source": [
    "We can easily get the set of labels available here:"
   ]
  },
  {
   "cell_type": "code",
   "execution_count": 9,
   "metadata": {},
   "outputs": [
    {
     "data": {
      "text/plain": [
       "array(['ARG0', 'ARG1', 'ARG2', 'ARG3', 'ARG4', 'ARG5', 'ARGA', 'ARGM-ADJ',\n",
       "       'ARGM-ADV', 'ARGM-CAU', 'ARGM-COM', 'ARGM-DIR', 'ARGM-DIS',\n",
       "       'ARGM-DSP', 'ARGM-EXT', 'ARGM-GOL', 'ARGM-LOC', 'ARGM-LVB',\n",
       "       'ARGM-MNR', 'ARGM-MOD', 'ARGM-NEG', 'ARGM-PNC', 'ARGM-PRD',\n",
       "       'ARGM-PRP', 'ARGM-PRR', 'ARGM-PRX', 'ARGM-REC', 'ARGM-TMP',\n",
       "       'C-ARG0', 'C-ARG1', 'C-ARG2', 'C-ARG3', 'C-ARG4', 'C-ARGM-ADJ',\n",
       "       'C-ARGM-ADV', 'C-ARGM-CAU', 'C-ARGM-COM', 'C-ARGM-DIR',\n",
       "       'C-ARGM-DIS', 'C-ARGM-DSP', 'C-ARGM-EXT', 'C-ARGM-LOC',\n",
       "       'C-ARGM-MNR', 'C-ARGM-MOD', 'C-ARGM-NEG', 'C-ARGM-PRP',\n",
       "       'C-ARGM-TMP', 'R-ARG0', 'R-ARG1', 'R-ARG2', 'R-ARG3', 'R-ARG4',\n",
       "       'R-ARG5', 'R-ARGM-ADV', 'R-ARGM-CAU', 'R-ARGM-COM', 'R-ARGM-DIR',\n",
       "       'R-ARGM-EXT', 'R-ARGM-GOL', 'R-ARGM-LOC', 'R-ARGM-MNR',\n",
       "       'R-ARGM-MOD', 'R-ARGM-PNC', 'R-ARGM-PRD', 'R-ARGM-PRP',\n",
       "       'R-ARGM-TMP'], dtype=object)"
      ]
     },
     "execution_count": 9,
     "metadata": {},
     "output_type": "execute_result"
    }
   ],
   "source": [
    "preds.target_df_long.label.unique()"
   ]
  },
  {
   "cell_type": "markdown",
   "metadata": {},
   "source": [
    "And easily compute micro-averaged metrics by simply comparing the `label.true` and `preds.proba` columns:"
   ]
  },
  {
   "cell_type": "code",
   "execution_count": 10,
   "metadata": {},
   "outputs": [
    {
     "data": {
      "text/plain": [
       "0.1928442044222027"
      ]
     },
     "execution_count": 10,
     "metadata": {},
     "output_type": "execute_result"
    }
   ],
   "source": [
    "from sklearn import metrics\n",
    "long_df = preds.target_df_long\n",
    "metrics.f1_score(y_true=long_df['label.true'], y_pred=(long_df['preds.proba'] >= 0.5))"
   ]
  },
  {
   "cell_type": "code",
   "execution_count": null,
   "metadata": {},
   "outputs": [],
   "source": []
  }
 ],
 "metadata": {
  "kernelspec": {
   "display_name": "Python 3",
   "language": "python",
   "name": "python3"
  },
  "language_info": {
   "codemirror_mode": {
    "name": "ipython",
    "version": 3
   },
   "file_extension": ".py",
   "mimetype": "text/x-python",
   "name": "python",
   "nbconvert_exporter": "python",
   "pygments_lexer": "ipython3",
   "version": "3.6.13"
  }
 },
 "nbformat": 4,
 "nbformat_minor": 2
}
